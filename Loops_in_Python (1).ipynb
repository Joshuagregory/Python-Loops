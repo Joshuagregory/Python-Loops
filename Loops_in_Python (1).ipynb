{
  "nbformat": 4,
  "nbformat_minor": 0,
  "metadata": {
    "colab": {
      "name": "Loops in Python",
      "provenance": []
    },
    "kernelspec": {
      "name": "python3",
      "display_name": "Python 3"
    }
  },
  "cells": [
    {
      "cell_type": "code",
      "metadata": {
        "id": "fqur1Q8UI5k0"
      },
      "source": [
        "#Loops : Loop is an instruction that repeats multiple number of times depending upon the condtions fed.\n",
        "#Types of Loops :\n",
        "#1. while \n",
        "#2. for \n",
        "#3. Nested loops"
      ],
      "execution_count": null,
      "outputs": []
    },
    {
      "cell_type": "code",
      "metadata": {
        "id": "NnacgMmv8pj0"
      },
      "source": [
        ""
      ],
      "execution_count": null,
      "outputs": []
    },
    {
      "cell_type": "code",
      "metadata": {
        "id": "0-bgnc72BeNG"
      },
      "source": [
        "#for loops:\n",
        "#range(start,stop,step)"
      ],
      "execution_count": null,
      "outputs": []
    },
    {
      "cell_type": "code",
      "metadata": {
        "id": "RO-WnKMM8-Sw",
        "colab": {
          "base_uri": "https://localhost:8080/",
          "height": 185
        },
        "outputId": "73ed4108-bffb-467b-d580-95998b6e404c"
      },
      "source": [
        "for i in range(10):\n",
        "  print(\"Hello\")"
      ],
      "execution_count": null,
      "outputs": [
        {
          "output_type": "stream",
          "text": [
            "Hello\n",
            "Hello\n",
            "Hello\n",
            "Hello\n",
            "Hello\n",
            "Hello\n",
            "Hello\n",
            "Hello\n",
            "Hello\n",
            "Hello\n"
          ],
          "name": "stdout"
        }
      ]
    },
    {
      "cell_type": "code",
      "metadata": {
        "id": "h-jUKfq0CFeY",
        "colab": {
          "base_uri": "https://localhost:8080/",
          "height": 101
        },
        "outputId": "6aa39212-8e43-48c8-e3e1-a432ea8ae7f8"
      },
      "source": [
        "for i in range(5): #to print a statement mutiple statements\n",
        "  print(\"Fun\")"
      ],
      "execution_count": null,
      "outputs": [
        {
          "output_type": "stream",
          "text": [
            "Fun\n",
            "Fun\n",
            "Fun\n",
            "Fun\n",
            "Fun\n"
          ],
          "name": "stdout"
        }
      ]
    },
    {
      "cell_type": "code",
      "metadata": {
        "id": "WyYOZrzJD92j",
        "colab": {
          "base_uri": "https://localhost:8080/",
          "height": 34
        },
        "outputId": "5e8a2752-7a6f-473f-ec6b-0b395dbcf702"
      },
      "source": [
        "print(range(5))"
      ],
      "execution_count": null,
      "outputs": [
        {
          "output_type": "stream",
          "text": [
            "range(0, 5)\n"
          ],
          "name": "stdout"
        }
      ]
    },
    {
      "cell_type": "code",
      "metadata": {
        "id": "dwyN4RufE8dP",
        "colab": {
          "base_uri": "https://localhost:8080/",
          "height": 34
        },
        "outputId": "140c926c-e14b-48a3-83ca-49b53ff8d446"
      },
      "source": [
        "num = 0\n",
        "for i in range(0,11):\n",
        "  num = num + i\n",
        "print(num)\n"
      ],
      "execution_count": null,
      "outputs": [
        {
          "output_type": "stream",
          "text": [
            "55\n"
          ],
          "name": "stdout"
        }
      ]
    },
    {
      "cell_type": "code",
      "metadata": {
        "id": "mmurN41Wc1gw",
        "colab": {
          "base_uri": "https://localhost:8080/",
          "height": 118
        },
        "outputId": "f62fb164-cfb3-48be-ab5e-7e749b123fc4"
      },
      "source": [
        "Name = \"JOSHUA\"\n",
        "for i in Name:\n",
        "  print(i)"
      ],
      "execution_count": null,
      "outputs": [
        {
          "output_type": "stream",
          "text": [
            "J\n",
            "O\n",
            "S\n",
            "H\n",
            "U\n",
            "A\n"
          ],
          "name": "stdout"
        }
      ]
    },
    {
      "cell_type": "code",
      "metadata": {
        "id": "hfn6hrbn-QdU",
        "colab": {
          "base_uri": "https://localhost:8080/",
          "height": 67
        },
        "outputId": "a2a464d5-d749-45d2-fcfe-fe3de1a73d81"
      },
      "source": [
        " n = {1 :'python',2:'c',3:'C++'}\n",
        "\n",
        " for i in n:\n",
        "   print(\"{} = {}\".format(i,n[i]))"
      ],
      "execution_count": null,
      "outputs": [
        {
          "output_type": "stream",
          "text": [
            "1 = python\n",
            "2 = c\n",
            "3 = C++\n"
          ],
          "name": "stdout"
        }
      ]
    },
    {
      "cell_type": "code",
      "metadata": {
        "id": "M8L5kpmFdSvM",
        "colab": {
          "base_uri": "https://localhost:8080/",
          "height": 134
        },
        "outputId": "3656f247-b21a-4b38-9f51-ae251bb992f4"
      },
      "source": [
        "for i in range(0,7): # to check if the number in the range are odd or even\n",
        "  if i%2==0:\n",
        "    print(\"{} is a Even number\".format(i))\n",
        "  else:\n",
        "    print(\"{} is a odd number\".format(i))  "
      ],
      "execution_count": null,
      "outputs": [
        {
          "output_type": "stream",
          "text": [
            "0 is a Even number\n",
            "1 is a odd number\n",
            "2 is a Even number\n",
            "3 is a odd number\n",
            "4 is a Even number\n",
            "5 is a odd number\n",
            "6 is a Even number\n"
          ],
          "name": "stdout"
        }
      ]
    },
    {
      "cell_type": "code",
      "metadata": {
        "id": "ymHIP_IYCuHr",
        "colab": {
          "base_uri": "https://localhost:8080/"
        },
        "outputId": "6ea11932-ef11-456d-c7cc-53141a14a92a"
      },
      "source": [
        "num = int(input(\"Enter a number:\"))\n",
        "factorial =1\n",
        "if num <0:\n",
        "  print(\"enter only postive number:\")\n",
        "elif num==0:\n",
        "  print(\"Factorial is 1\")\n",
        "else:\n",
        "  for number in range(1,num+1):\n",
        "    factorial = factorial * number\n",
        "print(factorial)         "
      ],
      "execution_count": null,
      "outputs": [
        {
          "output_type": "stream",
          "text": [
            "Enter a number:4\n",
            "24\n"
          ],
          "name": "stdout"
        }
      ]
    },
    {
      "cell_type": "code",
      "metadata": {
        "id": "TkY8lXCkO8UU",
        "colab": {
          "base_uri": "https://localhost:8080/",
          "height": 50
        },
        "outputId": "27a02391-d09f-4776-9be5-949324a9cf57"
      },
      "source": [
        "# # syntax\n",
        "# while(expression):\n",
        "#   statement()\n",
        "i = 1\n",
        "while i<5:\n",
        "  \n",
        "  print(\"Good day\")"
      ],
      "execution_count": null,
      "outputs": [
        {
          "output_type": "stream",
          "text": [
            "Good day\n",
            "Good day\n"
          ],
          "name": "stdout"
        }
      ]
    },
    {
      "cell_type": "code",
      "metadata": {
        "id": "CMc_Rvmx0jl9",
        "colab": {
          "base_uri": "https://localhost:8080/",
          "height": 101
        },
        "outputId": "6adf3fd2-124c-4100-a75c-a9b6a1a05650"
      },
      "source": [
        "i =1\n",
        "while i<6:\n",
        "  i+=1\n",
        "  print(\"fantastic\")"
      ],
      "execution_count": null,
      "outputs": [
        {
          "output_type": "stream",
          "text": [
            "fantastic\n",
            "fantastic\n",
            "fantastic\n",
            "fantastic\n",
            "fantastic\n"
          ],
          "name": "stdout"
        }
      ]
    },
    {
      "cell_type": "code",
      "metadata": {
        "id": "PSVwPeJeOU04",
        "colab": {
          "base_uri": "https://localhost:8080/",
          "height": 773
        },
        "outputId": "3b4439f7-9003-40db-bb51-409ba1e7f9ea"
      },
      "source": [
        "i = 1\n",
        "while i<6:\n",
        "  print(\"fantastic\")\n",
        "  j = 3\n",
        "  i+=1\n",
        "  while j<7:\n",
        "    print(\"excellent\")\n",
        "    j +=1"
      ],
      "execution_count": null,
      "outputs": [
        {
          "output_type": "stream",
          "text": [
            "fantastic\n",
            "excellent\n",
            "\n",
            "excellent\n",
            "\n",
            "excellent\n",
            "\n",
            "excellent\n",
            "\n",
            "fantastic\n",
            "excellent\n",
            "\n",
            "excellent\n",
            "\n",
            "excellent\n",
            "\n",
            "excellent\n",
            "\n",
            "fantastic\n",
            "excellent\n",
            "\n",
            "excellent\n",
            "\n",
            "excellent\n",
            "\n",
            "excellent\n",
            "\n",
            "fantastic\n",
            "excellent\n",
            "\n",
            "excellent\n",
            "\n",
            "excellent\n",
            "\n",
            "excellent\n",
            "\n",
            "fantastic\n",
            "excellent\n",
            "\n",
            "excellent\n",
            "\n",
            "excellent\n",
            "\n",
            "excellent\n",
            "\n"
          ],
          "name": "stdout"
        }
      ]
    },
    {
      "cell_type": "code",
      "metadata": {
        "id": "sI8tjKIARPjb",
        "colab": {
          "base_uri": "https://localhost:8080/",
          "height": 34
        },
        "outputId": "bafe25df-6037-4628-ecde-f869999f3e31"
      },
      "source": [
        "i = 7\n",
        "while i<6:\n",
        "  print(i)\n",
        "  i+=1\n",
        "else:\n",
        "  print(\"Not cool\")  \n"
      ],
      "execution_count": null,
      "outputs": [
        {
          "output_type": "stream",
          "text": [
            "Not cool\n"
          ],
          "name": "stdout"
        }
      ]
    },
    {
      "cell_type": "code",
      "metadata": {
        "id": "RxioJUhaRUTc",
        "colab": {
          "base_uri": "https://localhost:8080/",
          "height": 202
        },
        "outputId": "0fa955cb-51ec-4327-c835-71f187d07eb6"
      },
      "source": [
        "#to print any multiplication tables from 1- 10\n",
        "n= int(input(\"Enter a number:\"))\n",
        "i =1\n",
        "while i<=10:\n",
        "    print(\"{} x {} = {}\".format(n,i,i*n))\n",
        "    i+=1"
      ],
      "execution_count": null,
      "outputs": [
        {
          "output_type": "stream",
          "text": [
            "Enter a number:10\n",
            "10 x 1 = 10\n",
            "10 x 2 = 20\n",
            "10 x 3 = 30\n",
            "10 x 4 = 40\n",
            "10 x 5 = 50\n",
            "10 x 6 = 60\n",
            "10 x 7 = 70\n",
            "10 x 8 = 80\n",
            "10 x 9 = 90\n",
            "10 x 10 = 100\n"
          ],
          "name": "stdout"
        }
      ]
    },
    {
      "cell_type": "code",
      "metadata": {
        "id": "yQXEpAataBwF",
        "colab": {
          "base_uri": "https://localhost:8080/",
          "height": 202
        },
        "outputId": "2a829ae4-a9fb-48bb-c99e-a7f51b5bf767"
      },
      "source": [
        "num = 0\n",
        "while num<=10:\n",
        "  print(num)\n",
        "  num+=1\n",
        "  "
      ],
      "execution_count": null,
      "outputs": [
        {
          "output_type": "stream",
          "text": [
            "0\n",
            "1\n",
            "2\n",
            "3\n",
            "4\n",
            "5\n",
            "6\n",
            "7\n",
            "8\n",
            "9\n",
            "10\n"
          ],
          "name": "stdout"
        }
      ]
    },
    {
      "cell_type": "code",
      "metadata": {
        "id": "FQISzXyugfQO",
        "colab": {
          "base_uri": "https://localhost:8080/",
          "height": 202
        },
        "outputId": "c2979385-0780-4c73-ae63-bdedcba495af"
      },
      "source": [
        "num = 10\n",
        "while num>=0:\n",
        "  if num==0:\n",
        "    print(\"stop\")\n",
        "  else:\n",
        "    print(num)\n",
        "  num = num - 1  "
      ],
      "execution_count": null,
      "outputs": [
        {
          "output_type": "stream",
          "text": [
            "10\n",
            "9\n",
            "8\n",
            "7\n",
            "6\n",
            "5\n",
            "4\n",
            "3\n",
            "2\n",
            "1\n",
            "stop\n"
          ],
          "name": "stdout"
        }
      ]
    },
    {
      "cell_type": "code",
      "metadata": {
        "id": "XU1xvwxPWrit",
        "colab": {
          "base_uri": "https://localhost:8080/"
        },
        "outputId": "570d42c2-ee11-4281-f782-80c295f403ce"
      },
      "source": [
        "for i in range(1,5):\n",
        "  for j in range(1,5):\n",
        "    print(j, end=' ')\n",
        "  print()  "
      ],
      "execution_count": null,
      "outputs": [
        {
          "output_type": "stream",
          "text": [
            "1 2 3 4 \n",
            "1 2 3 4 \n",
            "1 2 3 4 \n",
            "1 2 3 4 \n"
          ],
          "name": "stdout"
        }
      ]
    },
    {
      "cell_type": "code",
      "metadata": {
        "id": "j5UWagSCCIZg",
        "colab": {
          "base_uri": "https://localhost:8080/",
          "height": 67
        },
        "outputId": "d42907ff-148c-4c68-b7d1-8da692c332a8"
      },
      "source": [
        " n = {1 :'python',2:'c',3:'C++'}\n",
        "\n",
        " for i in n:\n",
        "   print(\"{} = {}\".format(i,n[i]))"
      ],
      "execution_count": null,
      "outputs": [
        {
          "output_type": "stream",
          "text": [
            "1 = python\n",
            "2 = c\n",
            "3 = C++\n"
          ],
          "name": "stdout"
        }
      ]
    },
    {
      "cell_type": "code",
      "metadata": {
        "id": "g9rxwuVzXkOI",
        "colab": {
          "base_uri": "https://localhost:8080/",
          "height": 185
        },
        "outputId": "d00a967e-4b1b-4a6b-d4e4-81de8af929cb"
      },
      "source": [
        "i = 0\n",
        "while i <10:\n",
        "  print(\"Hello\")\n",
        "  i+=1\n"
      ],
      "execution_count": null,
      "outputs": [
        {
          "output_type": "stream",
          "text": [
            "Hello\n",
            "Hello\n",
            "Hello\n",
            "Hello\n",
            "Hello\n",
            "Hello\n",
            "Hello\n",
            "Hello\n",
            "Hello\n",
            "Hello\n"
          ],
          "name": "stdout"
        }
      ]
    },
    {
      "cell_type": "code",
      "metadata": {
        "id": "vKDlxColZuPA",
        "colab": {
          "base_uri": "https://localhost:8080/",
          "height": 185
        },
        "outputId": "f5b50934-8ded-4b4c-dcac-f85971a25a78"
      },
      "source": [
        "num = 1\n",
        "while num<=10:\n",
        "  print(\"Good day\",end = \" \")\n",
        "  number = 0\n",
        "  while number <=5:\n",
        "    print(\"Bad day\",end = \" \")\n",
        "    number +=1\n",
        "  num +=1\n",
        "  print()  \n",
        "  \n"
      ],
      "execution_count": null,
      "outputs": [
        {
          "output_type": "stream",
          "text": [
            "Good day Bad day Bad day Bad day Bad day Bad day Bad day \n",
            "Good day Bad day Bad day Bad day Bad day Bad day Bad day \n",
            "Good day Bad day Bad day Bad day Bad day Bad day Bad day \n",
            "Good day Bad day Bad day Bad day Bad day Bad day Bad day \n",
            "Good day Bad day Bad day Bad day Bad day Bad day Bad day \n",
            "Good day Bad day Bad day Bad day Bad day Bad day Bad day \n",
            "Good day Bad day Bad day Bad day Bad day Bad day Bad day \n",
            "Good day Bad day Bad day Bad day Bad day Bad day Bad day \n",
            "Good day Bad day Bad day Bad day Bad day Bad day Bad day \n",
            "Good day Bad day Bad day Bad day Bad day Bad day Bad day \n"
          ],
          "name": "stdout"
        }
      ]
    },
    {
      "cell_type": "code",
      "metadata": {
        "id": "dUGzSvi3aBXb",
        "colab": {
          "base_uri": "https://localhost:8080/",
          "height": 50
        },
        "outputId": "b9e172f0-a4fb-4258-ec2f-b1ee7ce448c5"
      },
      "source": [
        "num = int(input(\"Enter a number:\"))\n",
        "factorial =1\n",
        "if num <0:\n",
        "  print(\"enter only postive number:\")\n",
        "elif num==0:\n",
        "  print(\"Factorial is 1\")\n",
        "else:\n",
        "  for number in range(1,num+1):\n",
        "    factorial = factorial * number\n",
        "print(factorial)  "
      ],
      "execution_count": null,
      "outputs": [
        {
          "output_type": "stream",
          "text": [
            "Enter a number:9\n",
            "362880\n"
          ],
          "name": "stdout"
        }
      ]
    },
    {
      "cell_type": "code",
      "metadata": {
        "id": "Bkn4kdc9WR_V",
        "colab": {
          "base_uri": "https://localhost:8080/",
          "height": 202
        },
        "outputId": "aeb03b8b-e080-43d0-a94a-4905d11a6018"
      },
      "source": [
        "for i in range(10):\n",
        "  if(i%2==0):\n",
        "    print(\"Happy\")\n",
        "    continue\n",
        "  if(i%9==0):\n",
        "    print(\"Fun\")\n",
        "    break\n",
        "  print(i)\n",
        "print(\"END\")        "
      ],
      "execution_count": null,
      "outputs": [
        {
          "output_type": "stream",
          "text": [
            "Happy\n",
            "1\n",
            "Happy\n",
            "3\n",
            "Happy\n",
            "5\n",
            "Happy\n",
            "7\n",
            "Happy\n",
            "Fun\n",
            "END\n"
          ],
          "name": "stdout"
        }
      ]
    },
    {
      "cell_type": "code",
      "metadata": {
        "id": "zCe-3zORX_H1",
        "colab": {
          "base_uri": "https://localhost:8080/",
          "height": 235
        },
        "outputId": "f7c2d430-c282-4cb0-e5f6-e1cce6179577"
      },
      "source": [
        "a = 1\n",
        "while(a<=10):\n",
        "  if(a%3==0):\n",
        "    print(\"continue\")\n",
        "    \n",
        "  print(a)\n",
        "  a +=1  "
      ],
      "execution_count": null,
      "outputs": [
        {
          "output_type": "stream",
          "text": [
            "1\n",
            "2\n",
            "continue\n",
            "3\n",
            "4\n",
            "5\n",
            "continue\n",
            "6\n",
            "7\n",
            "8\n",
            "continue\n",
            "9\n",
            "10\n"
          ],
          "name": "stdout"
        }
      ]
    },
    {
      "cell_type": "code",
      "metadata": {
        "id": "qaqu0kwcZavv",
        "colab": {
          "base_uri": "https://localhost:8080/",
          "height": 185
        },
        "outputId": "257f094c-00cc-483f-9235-fdee88856faa"
      },
      "source": [
        "for i in range(1,6):\n",
        "  print(\"Computer\", i)\n",
        "  for j in range(1,6):\n",
        "    print('laptop',j,end =\"\\t\") \n",
        "  print()  # to create a new line"
      ],
      "execution_count": null,
      "outputs": [
        {
          "output_type": "stream",
          "text": [
            "Computer 1\n",
            "laptop 1\tlaptop 2\tlaptop 3\tlaptop 4\tlaptop 5\t\n",
            "Computer 2\n",
            "laptop 1\tlaptop 2\tlaptop 3\tlaptop 4\tlaptop 5\t\n",
            "Computer 3\n",
            "laptop 1\tlaptop 2\tlaptop 3\tlaptop 4\tlaptop 5\t\n",
            "Computer 4\n",
            "laptop 1\tlaptop 2\tlaptop 3\tlaptop 4\tlaptop 5\t\n",
            "Computer 5\n",
            "laptop 1\tlaptop 2\tlaptop 3\tlaptop 4\tlaptop 5\t\n"
          ],
          "name": "stdout"
        }
      ]
    },
    {
      "cell_type": "code",
      "metadata": {
        "id": "xvDfU-ImfaI4",
        "colab": {
          "base_uri": "https://localhost:8080/",
          "height": 185
        },
        "outputId": "8d427f46-be6c-480d-fd89-653991b94d91"
      },
      "source": [
        "for i in range(1,11):\n",
        "  for j in range(1,11):\n",
        "    print(i*j,end = '\\t')\n",
        "  print(' ')  "
      ],
      "execution_count": null,
      "outputs": [
        {
          "output_type": "stream",
          "text": [
            "1\t2\t3\t4\t5\t6\t7\t8\t9\t10\t \n",
            "2\t4\t6\t8\t10\t12\t14\t16\t18\t20\t \n",
            "3\t6\t9\t12\t15\t18\t21\t24\t27\t30\t \n",
            "4\t8\t12\t16\t20\t24\t28\t32\t36\t40\t \n",
            "5\t10\t15\t20\t25\t30\t35\t40\t45\t50\t \n",
            "6\t12\t18\t24\t30\t36\t42\t48\t54\t60\t \n",
            "7\t14\t21\t28\t35\t42\t49\t56\t63\t70\t \n",
            "8\t16\t24\t32\t40\t48\t56\t64\t72\t80\t \n",
            "9\t18\t27\t36\t45\t54\t63\t72\t81\t90\t \n",
            "10\t20\t30\t40\t50\t60\t70\t80\t90\t100\t \n"
          ],
          "name": "stdout"
        }
      ]
    },
    {
      "cell_type": "markdown",
      "metadata": {
        "id": "ZzIz5-EOx5uh"
      },
      "source": [
        "i = 1, j =1, 1*1, j=2, 1*2,j=3, 1*3"
      ]
    },
    {
      "cell_type": "code",
      "metadata": {
        "id": "AQP9NSNoj_WE",
        "colab": {
          "base_uri": "https://localhost:8080/",
          "height": 134
        },
        "outputId": "a474927b-0fcf-44d0-81d1-14afcc1a98f1"
      },
      "source": [
        "\n",
        "line = 0\n",
        "while line<7:\n",
        "  star = line + 1\n",
        "  while star>0:\n",
        "    print(\"*\",end=\" \")\n",
        "    star = star-1\n",
        "  line = line+1\n",
        "  print()   \n"
      ],
      "execution_count": null,
      "outputs": [
        {
          "output_type": "stream",
          "text": [
            "* \n",
            "* * \n",
            "* * * \n",
            "* * * * \n",
            "* * * * * \n",
            "* * * * * * \n",
            "* * * * * * * \n"
          ],
          "name": "stdout"
        }
      ]
    }
  ]
}